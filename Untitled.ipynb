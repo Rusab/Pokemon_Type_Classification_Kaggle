{
 "cells": [
  {
   "cell_type": "code",
   "execution_count": 2,
   "id": "covered-cookie",
   "metadata": {},
   "outputs": [],
   "source": [
    "import pandas as pd\n",
    "import numpy as np\n",
    "import matplotlib.pyplot as plt\n",
    "from matplotlib import gridspec\n",
    "\n",
    "import tensorflow as tf\n",
    "\n",
    "\n",
    "#set seeds:\n",
    "np.random.seed(23131)\n",
    "tf.random.set_seed(23131)\n",
    "\n",
    "plt.rc('figure', autolayout = True)\n",
    "plt.rc('image', cmap='magma')\n"
   ]
  },
  {
   "cell_type": "markdown",
   "id": "reliable-palestine",
   "metadata": {},
   "source": [
    "<h2> Making Train and Test Data from Image directory </h2>"
   ]
  },
  {
   "cell_type": "code",
   "execution_count": 1,
   "id": "ahead-inclusion",
   "metadata": {},
   "outputs": [
    {
     "name": "stdout",
     "output_type": "stream",
     "text": [
      "Found 809 files belonging to 1 classes.\n"
     ]
    },
    {
     "data": {
      "text/plain": [
       "<BatchDataset shapes: ((None, 120, 120, 4), (None, 1)), types: (tf.float32, tf.float32)>"
      ]
     },
     "execution_count": 1,
     "metadata": {},
     "output_type": "execute_result"
    }
   ],
   "source": [
    "from tensorflow.keras.preprocessing import image_dataset_from_directory\n",
    "\n",
    "pokemon_data = image_dataset_from_directory(\n",
    "    './images',\n",
    "    labels = 'inferred',\n",
    "    label_mode = 'categorical',\n",
    "    color_mode = 'rgba',\n",
    "    batch_size = 64,\n",
    "    image_size = [120, 120],\n",
    "    shuffle = True,\n",
    "    interpolation = 'bicubic')\n",
    "pokemon_data\n"
   ]
  },
  {
   "cell_type": "code",
   "execution_count": null,
   "id": "collectible-queen",
   "metadata": {},
   "outputs": [],
   "source": []
  },
  {
   "cell_type": "code",
   "execution_count": null,
   "id": "tired-diameter",
   "metadata": {},
   "outputs": [],
   "source": []
  }
 ],
 "metadata": {
  "kernelspec": {
   "display_name": "Python 3",
   "language": "python",
   "name": "python3"
  },
  "language_info": {
   "codemirror_mode": {
    "name": "ipython",
    "version": 3
   },
   "file_extension": ".py",
   "mimetype": "text/x-python",
   "name": "python",
   "nbconvert_exporter": "python",
   "pygments_lexer": "ipython3",
   "version": "3.9.1"
  }
 },
 "nbformat": 4,
 "nbformat_minor": 5
}
