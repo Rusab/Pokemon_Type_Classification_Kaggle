{
 "cells": [
  {
   "cell_type": "code",
   "execution_count": 33,
   "id": "known-payday",
   "metadata": {},
   "outputs": [],
   "source": [
    "from PIL import Image\n",
    "import numpy as np\n",
    "import pandas as pd\n",
    "from matplotlib import image\n",
    "import matplotlib.pyplot as plt\n",
    "import tensorflow as tf\n",
    "from os import listdir\n"
   ]
  },
  {
   "cell_type": "markdown",
   "id": "successful-messaging",
   "metadata": {},
   "source": [
    "<h3> Load Data </h3>"
   ]
  },
  {
   "cell_type": "code",
   "execution_count": 18,
   "id": "suspended-yemen",
   "metadata": {},
   "outputs": [
    {
     "data": {
      "text/plain": [
       "array(['Grass', 'Psychic', 'Dark', 'Bug', 'Steel', 'Rock', 'Steel',\n",
       "       'Normal', 'Psychic', 'Water', 'Dragon', 'Rock', 'Normal', 'Grass',\n",
       "       'Electric', 'Rock', 'Water', 'Poison', 'Fire', 'Normal', 'Rock',\n",
       "       'Rock', 'Bug', 'Rock', 'Fairy', 'Steel', 'Ice', 'Normal', 'Rock',\n",
       "       'Ice', 'Dragon', 'Psychic', 'Water', 'Normal', 'Dragon', 'Ground',\n",
       "       'Ghost', 'Rock', 'Water', 'Water', 'Rock', 'Grass', 'Ice', 'Bug',\n",
       "       'Bug', 'Psychic', 'Steel', 'Grass', 'Grass', 'Ice', 'Normal',\n",
       "       'Normal', 'Normal', 'Rock', 'Dark', 'Fire', 'Water', 'Fire',\n",
       "       'Normal', 'Electric', 'Rock', 'Rock', 'Normal', 'Grass', 'Fire',\n",
       "       'Normal', 'Grass', 'Water', 'Steel', 'Steel', 'Water', 'Grass',\n",
       "       'Water', 'Grass', 'Normal', 'Normal', 'Bug', 'Bug', 'Bug', 'Grass',\n",
       "       'Grass', 'Fire', 'Rock', 'Grass', 'Water', 'Water', 'Bug',\n",
       "       'Normal', 'Bug', 'Psychic', 'Steel', 'Ghost', 'Normal', 'Fire',\n",
       "       'Bug', 'Fire', 'Fire', 'Normal', 'Grass', 'Grass', 'Grass',\n",
       "       'Grass', 'Grass', 'Fire', 'Psychic', 'Water', 'Psychic', 'Normal',\n",
       "       'Water', 'Water', 'Water', 'Ground', 'Fairy', 'Fairy', 'Fairy',\n",
       "       'Water', 'Steel', 'Ghost', 'Bug', 'Fire', 'Fairy', 'Fighting',\n",
       "       'Water', 'Water', 'Psychic', 'Psychic', 'Grass', 'Fighting',\n",
       "       'Fighting', 'Rock', 'Rock', 'Water', 'Psychic', 'Poison', 'Poison',\n",
       "       'Water', 'Bug', 'Ice', 'Ice', 'Ground', 'Bug', 'Fire', 'Dark',\n",
       "       'Fire', 'Grass', 'Fire', 'Grass', 'Electric', 'Normal', 'Dark',\n",
       "       'Normal', 'Ice', 'Fire', 'Psychic', 'Water', 'Water', 'Water',\n",
       "       'Ghost', 'Steel', 'Rock', 'Normal', 'Ground', 'Normal', 'Normal',\n",
       "       'Normal', 'Ground', 'Steel', 'Poison', 'Dragon', 'Dragon',\n",
       "       'Normal', 'Poison', 'Dragon', 'Ghost', 'Ghost', 'Ground',\n",
       "       'Psychic', 'Dragon', 'Water', 'Ground', 'Normal', 'Psychic', 'Bug',\n",
       "       'Ghost', 'Ghost', 'Ghost', 'Bug', 'Bug', 'Electric', 'Electric',\n",
       "       'Normal', 'Poison', 'Electric', 'Electric', 'Electric', 'Electric',\n",
       "       'Electric', 'Psychic', 'Fire', 'Electric', 'Water', 'Fire', 'Bug',\n",
       "       'Psychic', 'Psychic', 'Ground', 'Grass', 'Grass', 'Normal',\n",
       "       'Normal', 'Normal', 'Water', 'Fire', 'Water', 'Grass', 'Grass',\n",
       "       'Water', 'Electric', 'Fairy', 'Fire', 'Fire', 'Normal', 'Water',\n",
       "       'Fairy', 'Fairy', 'Ground', 'Grass', 'Grass', 'Bug', 'Dragon',\n",
       "       'Water', 'Water', 'Water', 'Ice', 'Normal', 'Normal', 'Dragon',\n",
       "       'Psychic', 'Bug', 'Poison', 'Dragon', 'Psychic', 'Ghost', 'Water',\n",
       "       'Bug', 'Ghost', 'Rock', 'Dragon', 'Rock', 'Normal', 'Ghost', 'Ice',\n",
       "       'Ice', 'Normal', 'Ground', 'Ground', 'Grass', 'Grass', 'Poison',\n",
       "       'Water', 'Water', 'Rock', 'Ground', 'Bug', 'Ground', 'Dragon',\n",
       "       'Dragon', 'Water', 'Psychic', 'Psychic', 'Psychic', 'Ghost',\n",
       "       'Fairy', 'Rock', 'Water', 'Poison', 'Grass', 'Ground', 'Grass',\n",
       "       'Fire', 'Bug', 'Psychic', 'Poison', 'Normal', 'Fighting', 'Dark',\n",
       "       'Water', 'Dragon', 'Normal', 'Fighting', 'Ghost', 'Fighting',\n",
       "       'Dragon', 'Fire', 'Fire', 'Electric', 'Electric', 'Bug', 'Normal',\n",
       "       'Ground', 'Ground', 'Fighting', 'Fighting', 'Fighting', 'Fire',\n",
       "       'Dark', 'Steel', 'Psychic', 'Normal', 'Grass', 'Water', 'Dark',\n",
       "       'Dark', 'Water', 'Dark', 'Psychic', 'Normal', 'Bug', 'Fire',\n",
       "       'Fire', 'Dark', 'Grass', 'Dragon', 'Water', 'Normal', 'Steel',\n",
       "       'Electric', 'Bug', 'Grass', 'Ice', 'Rock', 'Rock', 'Psychic',\n",
       "       'Bug', 'Normal', 'Bug', 'Grass', 'Normal', 'Water', 'Water',\n",
       "       'Water', 'Psychic', 'Steel', 'Steel', 'Steel', 'Steel', 'Poison',\n",
       "       'Normal', 'Dragon', 'Water', 'Bug', 'Bug', 'Ground', 'Ground',\n",
       "       'Water', 'Dragon', 'Steel', 'Ghost', 'Ground', 'Water', 'Water',\n",
       "       'Bug', 'Rock', 'Dragon', 'Dragon', 'Grass', 'Bug', 'Bug', 'Bug',\n",
       "       'Normal', 'Normal', 'Dark', 'Rock', 'Grass', 'Normal', 'Normal',\n",
       "       'Fire', 'Fire', 'Ghost', 'Water', 'Normal', 'Water', 'Normal',\n",
       "       'Fighting', 'Water', 'Psychic', 'Water', 'Psychic', 'Rock',\n",
       "       'Grass', 'Water', 'Electric', 'Electric', 'Rock', 'Fighting',\n",
       "       'Fighting', 'Fighting', 'Fire', 'Fire', 'Steel', 'Water', 'Fire',\n",
       "       'Fire', 'Electric', 'Electric', 'Electric', 'Fighting', 'Dark',\n",
       "       'Ice', 'Water', 'Dark', 'Electric', 'Fighting', 'Water', 'Water',\n",
       "       'Grass', 'Poison', 'Electric', 'Water', 'Ground', 'Fighting',\n",
       "       'Water', 'Bug', 'Steel', 'Fighting', 'Fighting', 'Grass', 'Steel',\n",
       "       'Normal', 'Steel', 'Psychic', 'Normal', 'Psychic', 'Steel',\n",
       "       'Steel', 'Bug', 'Psychic', 'Psychic', 'Fighting', 'Fighting',\n",
       "       'Dark', 'Water', 'Normal', 'Psychic', 'Ghost', 'Normal', 'Rock',\n",
       "       'Electric', 'Ghost', 'Ghost', 'Fire', 'Fire', 'Grass', 'Bug',\n",
       "       'Psychic', 'Ground', 'Water', 'Ground', 'Poison', 'Normal',\n",
       "       'Psychic', 'Dark', 'Psychic', 'Poison', 'Psychic', 'Psychic',\n",
       "       'Poison', 'Poison', 'Poison', 'Poison', 'Poison', 'Poison', 'Rock',\n",
       "       'Bug', 'Fire', 'Bug', 'Normal', 'Flying', 'Flying', 'Rock', 'Fire',\n",
       "       'Grass', 'Water', 'Grass', 'Rock', 'Rock', 'Rock', 'Normal',\n",
       "       'Fire', 'Water', 'Electric', 'Water', 'Ghost', 'Water', 'Fighting',\n",
       "       'Fighting', 'Water', 'Grass', 'Fire', 'Bug', 'Bug', 'Fighting',\n",
       "       'Normal', 'Dark', 'Water', 'Normal', 'Grass', 'Ground', 'Ghost',\n",
       "       'Bug', 'Water', 'Electric', 'Normal', 'Normal', 'Normal', 'Normal',\n",
       "       'Fire', 'Electric', 'Normal', 'Ice', 'Bug', 'Bug', 'Water',\n",
       "       'Electric', 'Poison', 'Water', 'Water', 'Water', 'Water', 'Fire',\n",
       "       'Dark', 'Water', 'Normal', 'Normal', 'Normal', 'Water', 'Fighting',\n",
       "       'Water', 'Rock', 'Water', 'Ghost', 'Rock', 'Dark', 'Normal',\n",
       "       'Fire', 'Water', 'Water', 'Fire', 'Grass', 'Water', 'Electric',\n",
       "       'Electric', 'Psychic', 'Rock', 'Fire', 'Normal', 'Normal',\n",
       "       'Dragon', 'Ice', 'Normal', 'Rock', 'Steel', 'Water', 'Water',\n",
       "       'Dragon', 'Psychic', 'Ground', 'Ground', 'Ground', 'Bug',\n",
       "       'Fighting', 'Rock', 'Rock', 'Grass', 'Grass', 'Electric', 'Grass',\n",
       "       'Normal', 'Dark', 'Dragon', 'Poison', 'Poison', 'Water', 'Ground',\n",
       "       'Ground', 'Ground', 'Ghost', 'Fighting', 'Normal', 'Bug', 'Grass',\n",
       "       'Bug', 'Bug', 'Dark', 'Dark', 'Bug', 'Water', 'Water', 'Ice',\n",
       "       'Grass', 'Water', 'Water', 'Normal', 'Grass', 'Grass', 'Poison',\n",
       "       'Bug', 'Water', 'Grass', 'Bug', 'Dragon', 'Water', 'Water', 'Bug',\n",
       "       'Rock', 'Grass', 'Grass', 'Electric', 'Grass', 'Bug', 'Ghost',\n",
       "       'Psychic', 'Bug', 'Normal', 'Water', 'Grass', 'Fire', 'Steel',\n",
       "       'Grass', 'Grass', 'Normal', 'Poison', 'Poison', 'Poison', 'Normal',\n",
       "       'Normal', 'Dragon', 'Water', 'Water', 'Water', 'Fire', 'Fairy',\n",
       "       'Normal', 'Ice', 'Dark', 'Grass', 'Normal', 'Ice', 'Grass',\n",
       "       'Fairy', 'Psychic', 'Psychic', 'Rock', 'Normal', 'Bug', 'Ice',\n",
       "       'Bug', 'Normal', 'Ghost', 'Psychic', 'Fairy', 'Water', 'Rock',\n",
       "       'Normal', 'Normal', 'Normal', 'Normal', 'Water', 'Water', 'Steel',\n",
       "       'Grass', 'Normal', 'Normal', 'Ground', 'Poison', 'Rock', 'Water',\n",
       "       'Grass', 'Grass', 'Bug', 'Normal', 'Bug', 'Poison', 'Water',\n",
       "       'Water', 'Normal', 'Ice', 'Fairy', 'Psychic', 'Fairy', 'Normal',\n",
       "       'Fire', 'Grass', 'Grass', 'Grass', 'Water', 'Electric', 'Psychic',\n",
       "       'Normal', 'Normal', 'Water', 'Water', 'Fire', 'Rock', 'Fighting',\n",
       "       'Electric', 'Fighting', 'Water', 'Electric', 'Fairy', 'Fairy',\n",
       "       'Fairy', 'Fire', 'Fire', 'Flying', 'Fire', 'Grass', 'Water',\n",
       "       'Normal', 'Poison', 'Poison', 'Normal', 'Ground', 'Grass', 'Ghost',\n",
       "       'Grass', 'Poison', 'Normal', 'Grass', 'Fire', 'Grass', 'Water',\n",
       "       'Electric', 'Normal', 'Fire', 'Rock', 'Rock', 'Fighting', 'Rock',\n",
       "       'Dark', 'Normal', 'Psychic', 'Normal', 'Psychic', 'Ice', 'Ice',\n",
       "       'Ice', 'Water', 'Bug', 'Bug', 'Bug', 'Grass', 'Bug', 'Ground',\n",
       "       'Psychic', 'Grass', 'Normal', 'Bug', 'Grass', 'Grass', 'Bug',\n",
       "       'Bug', 'Fire', 'Bug', 'Electric', 'Dark', 'Fire', 'Water', 'Water',\n",
       "       'Ice', 'Water', 'Normal', 'Dark', 'Bug', 'Grass', 'Poison',\n",
       "       'Grass', 'Bug', 'Water', 'Normal', 'Normal', 'Bug', 'Water',\n",
       "       'Water', 'Psychic', 'Psychic', 'Water', 'Bug', 'Bug', 'Psychic',\n",
       "       'Psychic', 'Fairy', 'Electric', 'Ghost', 'Bug', 'Bug', 'Normal',\n",
       "       'Dark', 'Normal', 'Electric', 'Electric', 'Dragon', 'Electric',\n",
       "       'Normal', 'Dark', 'Dark', 'Poison', 'Dark', 'Dragon'], dtype=object)"
      ]
     },
     "execution_count": 18,
     "metadata": {},
     "output_type": "execute_result"
    }
   ],
   "source": [
    "#Load all images from directory\n",
    "pokemon_data = []\n",
    "image_dir = 'images/images'\n",
    "for filename in listdir(image_dir):\n",
    "    pokemon_sprite = image.imread(image_dir + '/' + filename)\n",
    "    pokemon_data.append(pokemon_sprite)\n",
    "    \n",
    "# convert list to numpy array  \n",
    "pokemon_data = np.array(pokemon_data)\n",
    "\n",
    "#Load labels from csv\n",
    "label = pd.read_csv('pokemon.csv')\n",
    "label = label.sort_values(by = 'Name', ascending=True)\n",
    "\n",
    "# only using primary pokemon type\n",
    "types = np.array(label['Type1'])\n",
    "\n"
   ]
  },
  {
   "cell_type": "markdown",
   "id": "right-morning",
   "metadata": {},
   "source": [
    "<h3> Normalization and Spliting Data </h3>"
   ]
  },
  {
   "cell_type": "code",
   "execution_count": 26,
   "id": "exciting-blend",
   "metadata": {},
   "outputs": [
    {
     "ename": "IndentationError",
     "evalue": "expected an indented block (<ipython-input-26-65966b5f0734>, line 5)",
     "output_type": "error",
     "traceback": [
      "\u001b[1;36m  File \u001b[1;32m\"<ipython-input-26-65966b5f0734>\"\u001b[1;36m, line \u001b[1;32m5\u001b[0m\n\u001b[1;33m    X_train, X_test, y_train, y_test = train_test_split(pokemon_data, types, test_size = 0.3, random_state = 2)\u001b[0m\n\u001b[1;37m    ^\u001b[0m\n\u001b[1;31mIndentationError\u001b[0m\u001b[1;31m:\u001b[0m expected an indented block\n"
     ]
    }
   ],
   "source": [
    "from sklearn.model_selection import train_test_split\n",
    "\n",
    "for img in pokemon_data:\n",
    "    img = img/255\n",
    "\n",
    "X_train, X_test, y_train, y_test = train_test_split(pokemon_data, types, test_size = 0.3, random_state = 2)\n",
    "\n"
   ]
  },
  {
   "cell_type": "markdown",
   "id": "superior-cheat",
   "metadata": {},
   "source": [
    "<h3> Data Augmentation </h3>"
   ]
  },
  {
   "cell_type": "code",
   "execution_count": 32,
   "id": "material-mounting",
   "metadata": {},
   "outputs": [],
   "source": [
    "from tensorflow.keras import layers\n",
    "from tensorflow.keras.layers.experimental import preprocessing\n",
    "\n",
    "aug = tf.keras.Sequential([\n",
    "    preprocessing.RandomFlip(\"horizontal_and_vertical\"),\n",
    "    preprocessing.RandomRotation(0.2),\n",
    "    preprocessing.RandomTranslation(0.2, 0.2)\n",
    "])"
   ]
  },
  {
   "cell_type": "markdown",
   "id": "cubic-formula",
   "metadata": {},
   "source": [
    "<h3> Defining Model </h3>"
   ]
  },
  {
   "cell_type": "code",
   "execution_count": null,
   "id": "inclusive-dynamics",
   "metadata": {},
   "outputs": [],
   "source": [
    "\n",
    "\n",
    "model = tf.keras.Sequential()"
   ]
  }
 ],
 "metadata": {
  "kernelspec": {
   "display_name": "Python 3",
   "language": "python",
   "name": "python3"
  },
  "language_info": {
   "codemirror_mode": {
    "name": "ipython",
    "version": 3
   },
   "file_extension": ".py",
   "mimetype": "text/x-python",
   "name": "python",
   "nbconvert_exporter": "python",
   "pygments_lexer": "ipython3",
   "version": "3.9.1"
  }
 },
 "nbformat": 4,
 "nbformat_minor": 5
}
