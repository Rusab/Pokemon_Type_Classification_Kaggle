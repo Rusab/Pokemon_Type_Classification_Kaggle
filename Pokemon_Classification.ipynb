{
 "cells": [
  {
   "cell_type": "code",
   "execution_count": 1,
   "id": "moved-smile",
   "metadata": {},
   "outputs": [],
   "source": [
    "from PIL import Image\n",
    "import numpy as np\n",
    "import pandas as pd\n",
    "from matplotlib import image\n",
    "import matplotlib.pyplot as plt\n",
    "from matplotlib import style\n",
    "import tensorflow as tf\n",
    "from os import listdir\n",
    "\n",
    "style.use('dark_background')\n"
   ]
  },
  {
   "cell_type": "markdown",
   "id": "formal-connectivity",
   "metadata": {},
   "source": [
    "<h3> Load Data </h3>"
   ]
  },
  {
   "cell_type": "code",
   "execution_count": 20,
   "id": "gentle-irish",
   "metadata": {},
   "outputs": [],
   "source": [
    "#Load all images from directory\n",
    "pokemon_data = []\n",
    "image_dir = 'images/images'\n",
    "for filename in listdir(image_dir):\n",
    "    pokemon_sprite = image.imread(image_dir + '/' + filename)\n",
    "    pokemon_data.append(pokemon_sprite)\n",
    "    \n",
    "# convert list to numpy array  \n",
    "pokemon_data = np.array(pokemon_data).astype(np.float32)\n",
    "\n",
    "#Load labels from csv\n",
    "label = pd.read_csv('pokemon.csv')\n",
    "label = label.sort_values(by = 'Name', ascending=True)\n",
    "\n",
    "# only using primary pokemon type\n",
    "types = np.array(label['Type1'])\n",
    "\n"
   ]
  },
  {
   "cell_type": "markdown",
   "id": "organic-meter",
   "metadata": {},
   "source": [
    "<h3> Normalization and Spliting Data </h3>"
   ]
  },
  {
   "cell_type": "code",
   "execution_count": 60,
   "id": "early-speaking",
   "metadata": {},
   "outputs": [],
   "source": [
    "from sklearn.model_selection import train_test_split\n",
    "from sklearn.preprocessing import LabelEncoder\n",
    "\n",
    "\n",
    "\n",
    "enc = LabelEncoder()\n",
    "enc.fit(types)\n",
    "types = enc.transform(types)\n",
    "\n",
    "\n",
    "X_train, X_test, y_train, y_test = train_test_split(pokemon_data, types, test_size = 0.3, random_state = 2)\n",
    "\n",
    "#normalizing data\n",
    "X_train /= 255.0\n",
    "X_test /= 255.0\n",
    "\n"
   ]
  },
  {
   "cell_type": "markdown",
   "id": "smart-ottawa",
   "metadata": {},
   "source": [
    "<h3> Data Augmentation </h3>"
   ]
  },
  {
   "cell_type": "code",
   "execution_count": 61,
   "id": "following-angel",
   "metadata": {},
   "outputs": [],
   "source": [
    "from tensorflow.keras import layers\n",
    "from tensorflow.keras.layers.experimental import preprocessing\n",
    "\n",
    "augmentation_layers = tf.keras.Sequential([\n",
    "    preprocessing.RandomFlip(\"horizontal_and_vertical\"),\n",
    "    preprocessing.RandomRotation(0.2),\n",
    "    preprocessing.RandomTranslation(0.2, 0.2)\n",
    "])"
   ]
  },
  {
   "cell_type": "markdown",
   "id": "honey-minority",
   "metadata": {},
   "source": [
    "<h3> Defining Model </h3>"
   ]
  },
  {
   "cell_type": "code",
   "execution_count": 64,
   "id": "third-cartoon",
   "metadata": {},
   "outputs": [],
   "source": [
    "#Custom CNN model\n",
    "model = tf.keras.Sequential()\n",
    "model.add(augmentation_layers)\n",
    "model.add(layers.Conv2D(64, (3, 3), strides = (1, 1), padding = 'same', activation = 'relu', input_shape=(120, 120, 4) ))\n",
    "model.add(layers.MaxPooling2D((2, 2), strides = (1, 1), padding = 'same'))\n",
    "          \n",
    "model.add(layers.Conv2D(64, (3, 3), strides = (1, 1), padding = 'same', activation = 'relu'))\n",
    "model.add(layers.MaxPooling2D((2, 2), strides = (1, 1), padding = 'same'))\n",
    "\n",
    "model.add(layers.Conv2D(64, (3, 3), strides = (1, 1), padding = 'same', activation = 'relu'))\n",
    "model.add(layers.MaxPooling2D((2, 2), strides = (1, 1), padding = 'same'))\n",
    "    \n",
    "    \n",
    "model.add(layers.Flatten())\n",
    "model.add(layers.Dense(64, activation = 'relu'))\n",
    "model.add(layers.Dense(18, activation = 'softmax'))\n",
    "    \n",
    "\n",
    "model.compile(optimizer = 'adam', loss = 'sparse_categorical_crossentropy', metrics = ['accuracy'])\n",
    "#model.build((None, 120, 120, 4))\n",
    "#model.summary()"
   ]
  },
  {
   "cell_type": "markdown",
   "id": "exclusive-topic",
   "metadata": {},
   "source": [
    "<h3> Optimizing and Fitting Model </h3>"
   ]
  },
  {
   "cell_type": "code",
   "execution_count": 65,
   "id": "realistic-danish",
   "metadata": {},
   "outputs": [
    {
     "name": "stdout",
     "output_type": "stream",
     "text": [
      "Epoch 1/20\n",
      "18/18 [==============================] - 2s 50ms/step - loss: 2.8116 - accuracy: 0.0901 - val_loss: 2.7448 - val_accuracy: 0.0741\n",
      "Epoch 2/20\n",
      "18/18 [==============================] - 1s 39ms/step - loss: 2.7539 - accuracy: 0.0989 - val_loss: 2.7210 - val_accuracy: 0.1440\n",
      "Epoch 3/20\n",
      "18/18 [==============================] - 1s 39ms/step - loss: 2.7447 - accuracy: 0.1396 - val_loss: 2.7863 - val_accuracy: 0.1440\n",
      "Epoch 4/20\n",
      "18/18 [==============================] - 1s 38ms/step - loss: 2.7518 - accuracy: 0.1343 - val_loss: 2.7252 - val_accuracy: 0.1399\n",
      "Epoch 5/20\n",
      "18/18 [==============================] - 1s 39ms/step - loss: 2.7249 - accuracy: 0.1449 - val_loss: 2.7334 - val_accuracy: 0.1440\n",
      "Epoch 6/20\n",
      "18/18 [==============================] - 1s 39ms/step - loss: 2.7400 - accuracy: 0.1396 - val_loss: 2.7242 - val_accuracy: 0.1440\n",
      "Epoch 7/20\n",
      "18/18 [==============================] - 1s 39ms/step - loss: 2.7266 - accuracy: 0.1396 - val_loss: 2.7004 - val_accuracy: 0.1440\n",
      "Epoch 8/20\n",
      "18/18 [==============================] - 1s 41ms/step - loss: 2.7184 - accuracy: 0.1307 - val_loss: 2.6858 - val_accuracy: 0.1440\n",
      "Epoch 9/20\n",
      "18/18 [==============================] - 1s 39ms/step - loss: 2.7255 - accuracy: 0.1396 - val_loss: 2.6939 - val_accuracy: 0.1440\n",
      "Epoch 10/20\n",
      "18/18 [==============================] - 1s 39ms/step - loss: 2.7257 - accuracy: 0.1237 - val_loss: 2.7078 - val_accuracy: 0.1440\n",
      "Epoch 11/20\n",
      "18/18 [==============================] - 1s 39ms/step - loss: 2.7231 - accuracy: 0.1254 - val_loss: 2.6949 - val_accuracy: 0.1440\n",
      "Epoch 12/20\n",
      "18/18 [==============================] - 1s 39ms/step - loss: 2.7134 - accuracy: 0.1396 - val_loss: 2.6883 - val_accuracy: 0.1440\n",
      "Epoch 13/20\n",
      "18/18 [==============================] - 1s 40ms/step - loss: 2.7130 - accuracy: 0.1396 - val_loss: 2.7142 - val_accuracy: 0.1440\n",
      "Epoch 14/20\n",
      "18/18 [==============================] - 1s 39ms/step - loss: 2.7146 - accuracy: 0.1272 - val_loss: 2.7039 - val_accuracy: 0.1399\n",
      "Epoch 15/20\n",
      "18/18 [==============================] - 1s 43ms/step - loss: 2.7478 - accuracy: 0.1290 - val_loss: 2.6831 - val_accuracy: 0.1440\n",
      "Epoch 16/20\n",
      "18/18 [==============================] - 1s 40ms/step - loss: 2.7274 - accuracy: 0.1396 - val_loss: 2.6885 - val_accuracy: 0.1440\n",
      "Epoch 17/20\n",
      "18/18 [==============================] - 1s 40ms/step - loss: 2.7245 - accuracy: 0.1396 - val_loss: 2.6861 - val_accuracy: 0.1440\n",
      "Epoch 18/20\n",
      "18/18 [==============================] - 1s 39ms/step - loss: 2.7270 - accuracy: 0.1237 - val_loss: 2.6898 - val_accuracy: 0.1399\n",
      "Epoch 19/20\n",
      "18/18 [==============================] - 1s 38ms/step - loss: 2.7186 - accuracy: 0.1343 - val_loss: 2.6869 - val_accuracy: 0.1440\n",
      "Epoch 20/20\n",
      "18/18 [==============================] - 1s 38ms/step - loss: 2.7122 - accuracy: 0.1254 - val_loss: 2.6865 - val_accuracy: 0.1440\n"
     ]
    }
   ],
   "source": [
    "from tensorflow.keras.callbacks import EarlyStopping\n",
    "\n",
    "#early stop when validation accuracy drops\n",
    "early_stop = EarlyStopping(min_delta = 0.001, patience = 30, restore_best_weights = True)\n",
    "\n",
    "trained_model = model.fit(X_train, y_train,\n",
    "                    batch_size = 32,\n",
    "                    validation_data = (X_test, y_test),\n",
    "                    shuffle = True,\n",
    "                    callbacks = [early_stop],\n",
    "                    epochs = 20\n",
    "                   )"
   ]
  },
  {
   "cell_type": "markdown",
   "id": "initial-trunk",
   "metadata": {},
   "source": [
    "<h3> Validation and Prediction </h3>"
   ]
  },
  {
   "cell_type": "code",
   "execution_count": 53,
   "id": "preceding-idaho",
   "metadata": {},
   "outputs": [
    {
     "name": "stdout",
     "output_type": "stream",
     "text": [
      "8/8 [==============================] - 0s 9ms/step - loss: 2.6915 - accuracy: 0.1317\n",
      "Accuracy: 0.1316872388124466\n"
     ]
    },
    {
     "data": {
      "image/png": "[encoded data removed]",
      "text/plain": [
       "<Figure size 432x288 with 1 Axes>"
      ]
     },
     "metadata": {},
     "output_type": "display_data"
    }
   ],
   "source": [
    "plt.plot(trained_model.history['accuracy'], label = 'accuracy')\n",
    "plt.plot(trained_model.history['val_accuracy'], label = 'val_accuracy')\n",
    "plt.xlabel('Epoch')\n",
    "plt.ylabel('Accuracy')\n",
    "plt.ylim([0,1])\n",
    "\n",
    "loss, model_accuracy = model.evaluate(X_test, y_test)\n",
    "\n",
    "print(\"Accuracy:\", model_accuracy)"
   ]
  },
  {
   "cell_type": "code",
   "execution_count": null,
   "id": "listed-perry",
   "metadata": {},
   "outputs": [],
   "source": []
  }
 ],
 "metadata": {
  "kernelspec": {
   "display_name": "Python 3",
   "language": "python",
   "name": "python3"
  },
  "language_info": {
   "codemirror_mode": {
    "name": "ipython",
    "version": 3
   },
   "file_extension": ".py",
   "mimetype": "text/x-python",
   "name": "python",
   "nbconvert_exporter": "python",
   "pygments_lexer": "ipython3",
   "version": "3.9.1"
  }
 },
 "nbformat": 4,
 "nbformat_minor": 5
}
